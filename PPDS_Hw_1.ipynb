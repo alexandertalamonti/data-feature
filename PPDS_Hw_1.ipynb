{
  "nbformat": 4,
  "nbformat_minor": 0,
  "metadata": {
    "colab": {
      "provenance": []
    },
    "kernelspec": {
      "name": "python3",
      "display_name": "Python 3"
    },
    "language_info": {
      "name": "python"
    }
  },
  "cells": [
    {
      "cell_type": "markdown",
      "source": [
        "# Instructions\n",
        "Just run the notebook and scroll to the bottom to see the results!"
      ],
      "metadata": {
        "id": "DbRNZSlCGdVk"
      }
    },
    {
      "cell_type": "code",
      "source": [
        "# First handle imports\n",
        "import requests\n",
        "import datetime\n",
        "import pytz # timezone package"
      ],
      "metadata": {
        "id": "3UA7maqQ8nCV"
      },
      "execution_count": 1,
      "outputs": []
    },
    {
      "cell_type": "code",
      "source": [
        "# get date in yyyy-mm-dd format for EST time zone\n",
        "timezone = pytz.timezone(\"America/New_York\")\n",
        "today = datetime.datetime.now(timezone)\n",
        "# make date string from datetime object with leading 0s\n",
        "date_str = f\"{today.year}-{today.month:02d}-{today.day:02d}\"\n",
        "date_str"
      ],
      "metadata": {
        "colab": {
          "base_uri": "https://localhost:8080/",
          "height": 35
        },
        "id": "ISLSW5azQ84F",
        "outputId": "db3d5e2c-cbce-446d-f31b-7e79755f1645"
      },
      "execution_count": 2,
      "outputs": [
        {
          "output_type": "execute_result",
          "data": {
            "text/plain": [
              "'2024-09-10'"
            ],
            "application/vnd.google.colaboratory.intrinsic+json": {
              "type": "string"
            }
          },
          "metadata": {},
          "execution_count": 2
        }
      ]
    },
    {
      "cell_type": "code",
      "source": [
        "# Hit nager API to get list of holidays occurring in the next 7 days\n",
        "res = requests.get('https://date.nager.at/api/v3/NextPublicHolidaysWorldwide')\n",
        "next_week_holidays = res.json()"
      ],
      "metadata": {
        "id": "Gjxv5rP7IwqH"
      },
      "execution_count": 3,
      "outputs": []
    },
    {
      "cell_type": "code",
      "source": [
        "# Get holidays that are occurring today\n",
        "holidays_today = [holiday for holiday in next_week_holidays if holiday['date'] == date_str]\n",
        "holidays_today"
      ],
      "metadata": {
        "colab": {
          "base_uri": "https://localhost:8080/"
        },
        "id": "gHHkQbOATTo-",
        "outputId": "4f9b0495-063f-45f9-cf17-2f11a6c2bd88"
      },
      "execution_count": 4,
      "outputs": [
        {
          "output_type": "execute_result",
          "data": {
            "text/plain": [
              "[{'date': '2024-09-10',\n",
              "  'localName': \"Saint George's Caye Day\",\n",
              "  'name': \"Saint George's Caye Day\",\n",
              "  'countryCode': 'BZ',\n",
              "  'fixed': False,\n",
              "  'global': True,\n",
              "  'counties': None,\n",
              "  'launchYear': None,\n",
              "  'types': ['Public']},\n",
              " {'date': '2024-09-10',\n",
              "  'localName': 'Gibraltar National Day',\n",
              "  'name': 'Gibraltar National Day',\n",
              "  'countryCode': 'GI',\n",
              "  'fixed': False,\n",
              "  'global': True,\n",
              "  'counties': None,\n",
              "  'launchYear': None,\n",
              "  'types': ['Public']}]"
            ]
          },
          "metadata": {},
          "execution_count": 4
        }
      ]
    },
    {
      "cell_type": "code",
      "source": [
        "# RestCountries API Calls\n",
        "countryData = []\n",
        "\n",
        "for holiday in holidays_today:\n",
        "  res = requests.get(f\"https://restcountries.com/v3.1/alpha/{holiday['countryCode']}\")\n",
        "  countryData.append((res.json()[0]['name']['common'], res.json()[0]['population'], holiday['name']))"
      ],
      "metadata": {
        "id": "O1FhCTwydIqY"
      },
      "execution_count": 5,
      "outputs": []
    },
    {
      "cell_type": "code",
      "source": [
        "countryData"
      ],
      "metadata": {
        "colab": {
          "base_uri": "https://localhost:8080/"
        },
        "id": "JTr9swDAA2xo",
        "outputId": "4c03858d-645a-407b-a0fb-c4b7d05feae8"
      },
      "execution_count": 6,
      "outputs": [
        {
          "output_type": "execute_result",
          "data": {
            "text/plain": [
              "[('Belize', 397621, \"Saint George's Caye Day\"),\n",
              " ('Gibraltar', 33691, 'Gibraltar National Day')]"
            ]
          },
          "metadata": {},
          "execution_count": 6
        }
      ]
    },
    {
      "cell_type": "code",
      "source": [
        "total_pop = 0\n",
        "for data in countryData:\n",
        "  total_pop += data[1]\n",
        "  print(f\"In {data[0]}, {data[1]:,} people are celebrating {data[2]}.\")\n",
        "\n",
        "if not countryData : # handle case if there is no holidays today\n",
        "  print(\"There are no holidays today... what a sad day :(\")\n",
        "else:\n",
        "  print(f\"There are {total_pop:,} people celebrating today!\")"
      ],
      "metadata": {
        "colab": {
          "base_uri": "https://localhost:8080/"
        },
        "id": "hnUEDd4OBIeL",
        "outputId": "e6856756-4f68-4275-a4ff-06b3d2635872"
      },
      "execution_count": 7,
      "outputs": [
        {
          "output_type": "stream",
          "name": "stdout",
          "text": [
            "In Belize, 397,621 people are celebrating Saint George's Caye Day.\n",
            "In Gibraltar, 33,691 people are celebrating Gibraltar National Day.\n",
            "There are 431,312 people celebrating today!\n"
          ]
        }
      ]
    }
  ]
}